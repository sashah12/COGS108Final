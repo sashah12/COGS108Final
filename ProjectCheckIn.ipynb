{
 "cells": [
  {
   "cell_type": "markdown",
   "metadata": {},
   "source": [
    "# COGS 108 Final Project Check-In"
   ]
  },
  {
   "cell_type": "markdown",
   "metadata": {},
   "source": [
    "# Names\n",
    "\n",
    "- Enoch Li\n",
    "- Sam Yuen\n",
    "- Amandeep Singh\n",
    "- Sahil Shah\n",
    "- Mehail Sunny Mathew\n"
   ]
  },
  {
   "cell_type": "markdown",
   "metadata": {},
   "source": [
    "# Group Members IDs\n",
    "\n",
    "- A15670313\n",
    "- A15466822\n",
    "- A15055414\n",
    "- A15648766\n",
    "- A15299883"
   ]
  },
  {
   "cell_type": "markdown",
   "metadata": {},
   "source": [
    "# Accomplishments"
   ]
  },
  {
   "cell_type": "markdown",
   "metadata": {},
   "source": [
    "We have found some really useful datasets and have done a good amount of background research on our topic. Our topic is very difficult to evaluate and narrow down, but so far, we have narrowed our main focus and topic down to something we can find a lot of information about. We were able to focus our research question as well as focusing on a more detailed timeline and specify the location we are looking at, as one of our biggest struggles previously was having a research question that was not difficult enough to answer for a quarter-long project."
   ]
  },
  {
   "cell_type": "markdown",
   "metadata": {},
   "source": [
    "# Going Well"
   ]
  },
  {
   "cell_type": "markdown",
   "metadata": {},
   "source": [
    "There is mutual respect and devotion from each member of the group. Everyone seems to like each other and we are communicating well. We also have been able to find some good, representative datasets to answer our research question."
   ]
  },
  {
   "cell_type": "markdown",
   "metadata": {},
   "source": [
    "# Struggles"
   ]
  },
  {
   "cell_type": "markdown",
   "metadata": {},
   "source": [
    "*Breifly explain what snaOur main struggles came about when we realized we had an extremely broad topic. First when we came up with our idea, we mainly first discussed analyzing air pollution in certain areas of India and China. But, there were many problems associated with bias and finding information. We realized that we cannot compare certain areas due to biases related to socioeconomic status, overall immunity from certain body types, poverty rate, and more. We also realized that finding and analyzing datasets with this much information would be difficult. We then narrowed our topic to certain areas in India. More problems arose as we couldn’t find many relevant datasets. We then decided to narrow our research question to a city, Beijing, one of the worst qualities of air in the world. We found that datasets related to Beijing were prevalently available. Although we found our region, we still had to narrow our question down for specificity. Our original research question was “Does the increased concentration of different air pollutants correlate to increases of  different types of respiratory illnesses?” After the proposal feedback, it was apparent that this question was very elementary and all of us knew the answer to this as there is already tons of research done on this. To narrow the question down, we picked an area Beijing, now focusing into what leading factors are plummeting Beijing’s air quality by comparing three of the most common contributors to air pollution. \n",
    "\tJust like every other group, an upcoming struggle with the project is attempting to devote time into progressing the report in the coming weeks, because each member has their own midterms and other class work to tackle. This will make meeting with everyone in the group much more difficult, so we will have limited time to meet together as a group to work on our project for the remainder of the quarter.\n",
    "gs or issues your group has faced.*"
   ]
  },
  {
   "cell_type": "markdown",
   "metadata": {},
   "source": [
    "# Plan Forward"
   ]
  },
  {
   "cell_type": "markdown",
   "metadata": {},
   "source": [
    "Our plan forward is to find more useful datasets and start analyzing them as soon as possible. We want to start wrangling and cleaning our collected data so that we can begin our visualizations and progress further with our report.\n"
   ]
  }
 ],
 "metadata": {
  "kernelspec": {
   "display_name": "Python 3",
   "language": "python",
   "name": "python3"
  },
  "language_info": {
   "codemirror_mode": {
    "name": "ipython",
    "version": 3
   },
   "file_extension": ".py",
   "mimetype": "text/x-python",
   "name": "python",
   "nbconvert_exporter": "python",
   "pygments_lexer": "ipython3",
   "version": "3.6.7"
  }
 },
 "nbformat": 4,
 "nbformat_minor": 2
}
