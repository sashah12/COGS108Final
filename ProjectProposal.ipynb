{
 "cells": [
  {
   "cell_type": "markdown",
   "metadata": {},
   "source": [
    "# COGS 108 - Final Project Proposal"
   ]
  },
  {
   "cell_type": "markdown",
   "metadata": {},
   "source": [
    "# Names\n",
    "\n",
    "- Enoch Li\n",
    "- Sam Yuen\n",
    "- Amandeep Singh\n",
    "- Sahil Shah\n",
    "- Mehail Sunny Mathew"
   ]
  },
  {
   "cell_type": "markdown",
   "metadata": {},
   "source": [
    "# Group Members IDs\n",
    "\n",
    "- A15670313\n",
    "- A15466822\n",
    "- A15055414\n",
    "- A15648766\n",
    "- A15299883"
   ]
  },
  {
   "cell_type": "markdown",
   "metadata": {},
   "source": [
    "# Research Question"
   ]
  },
  {
   "cell_type": "markdown",
   "metadata": {},
   "source": [
    "Does the increased concentration of different air pollutants correlate to increases of  different types of respiratory illnesses?"
   ]
  },
  {
   "cell_type": "markdown",
   "metadata": {},
   "source": [
    "## Background and Prior Work"
   ]
  },
  {
   "cell_type": "markdown",
   "metadata": {},
   "source": [
    "In the first article, it is researching the effects of air pollution on respiratory illness deaths in Southeastern China. The research showed that areas that had greater concentrations of air pollutants (such as PM2.5, NO2, SO2, and O3). They explained that in multiple pollutant models, there was a significant portion of outpatients with respiratory illnesses in cities that contained high concentrations of air pollutants, providing evidence that both the mortality rates and outpatient visits for diseases were significantly associated with air pollutants. Increased chance of getting respiratory illnesses such as lung cancer, emphysema, and asthma. \n",
    "The second article is mainly about the impact of air pollution on the entire world population. It also states the sources of most indoor or outdoor pollution, whether it’s poor ventilation, smoking, or emissions from construction materials. The pollution is very different between developed and underdeveloped countries. The authors dive deep into the chemistry behind all that pollution to explain how there are different kinds of pollution. \n",
    "\n",
    "\n",
    "References (include links):\n",
    "- 1)https://www.nature.com/articles/s41598-018-19939-1\n",
    "- 2)https://www.ncbi.nlm.nih.gov/pmc/articles/PMC4740163/"
   ]
  },
  {
   "cell_type": "markdown",
   "metadata": {},
   "source": [
    "# Hypothesis\n"
   ]
  },
  {
   "cell_type": "markdown",
   "metadata": {},
   "source": [
    "We believe that higher concentrations of air pollutants do correlate to more extreme varieties of respiratory illnesses. From our background research, it has been shown that higher concentrations of air pollutants result in greater respiratory illness deaths. Furthermore, we know that air pollution has a significant influence on people throughout the globe, showing that the types of pollution from countries that are developed and those that are underdeveloped are different. Thus, we came to our hypothesis that higher concentrations of air pollutants would correlate to high rates of respiratory illness. Our hypothesis, however, is designed so that we can see what possible illnesses may be more prevalent depending on the concentration of air pollution, which could be relevant to certain areas or countries around the world. because of the different kinds of chemicals that compose the pollution.\n"
   ]
  },
  {
   "cell_type": "markdown",
   "metadata": {},
   "source": [
    "# Data"
   ]
  },
  {
   "cell_type": "markdown",
   "metadata": {},
   "source": [
    "For our project, we would need multiple datasets, ones that will show us the pollution concentrations in the cities/areas we chose and one that will show us the distribution of types of respiratory illnesses in those areas. Our ideal dataset would be one that shows the pollution concentrations of specified locations as well as the severity or types of respiratory illnesses in those same areas. The variables would have to include amounts of air pollution produced in a region, the number of people suffering from illnesses caused by it, the population in a region, and  number of deaths in a region by year. We also need to assure that the population we are analyzing has similar characteristics, such as socio-economic status, race/ethnicity, and life expectancy. To collect this data, we would find previous studies that researched the concentrations of air pollution to get the data for air pollution. Similarly, we would do this for previous studies for the types/severity of respiratory illnesses in the same area. For the numbers of people with certain illnesses or victims who died from them, we would look them up. The data will have to be organized into two datasets, with one that contains amounts of air pollution and compositions of it from different places and the other containing our findings on populations of people affected by it. \n"
   ]
  },
  {
   "cell_type": "markdown",
   "metadata": {},
   "source": [
    "# Ethics & Privacy"
   ]
  },
  {
   "cell_type": "markdown",
   "metadata": {},
   "source": [
    "A potential bias of our data lies within the populations we choose. Since peoples’ health, fitness, and body type are different within different regions in a country, there is variability.\n",
    "We want to avoid discriminating against certain socio-economic classes by picking a wide variety of populations of people.\n",
    "Limit as much bias as possible. This means picking a data set where the population has similar characteristics and is evenly spread out in terms of health and socio-economic status.\n",
    "Making sure that the data we pick, the majority of people who have a respiratory illness is caused by the air, not by anything else, such as genetics, smoking, etc.\n",
    "One concern is if the data is public or private and whether or not we are allowed to use it\n",
    "We want to make sure our data is obtained through ethical means\n"
   ]
  },
  {
   "cell_type": "markdown",
   "metadata": {},
   "source": [
    "# Team Expectations "
   ]
  },
  {
   "cell_type": "markdown",
   "metadata": {},
   "source": [
    "We will meet weekly to work on the project.\n",
    "We will follow our proposal timeline as accordingly as possible.\n",
    "We will spend time analyzing our research question and using that as the basis of all our research and data.\n",
    "If conflicts arise, we will communicate respectfully and resolve them as they come.\n",
    "We will keep in contact for updates between our own research and work to collaborate.\n"
   ]
  },
  {
   "cell_type": "markdown",
   "metadata": {},
   "source": [
    "# Project Timeline Proposal"
   ]
  },
  {
   "cell_type": "markdown",
   "metadata": {},
   "source": [
    "| Meeting Date  | Meeting Time| Completed Before Meeting  | Discuss at Meeting |\n",
    "|---|---|---|---|\n",
    "| 1/30  |  1 PM | Read & Think about COGS 108 expectations; brainstorm topics/questions  | Determine best form of communication; Discuss and decide on final project topic; discuss hypothesis; begin background research | \n",
    "| 1/31  |  1 PM |  Do background research on topic | Discuss ideal dataset(s) and ethics; draft project proposal | \n",
    "| 2/4  | 1 PM  | Search for datasets  | Discuss Wrangling and possible analytical approaches; Assign group members to lead each specific part   |\n",
    "| 2/18  | 1 PM  | Import & Wrangle Data| Review/Edit wrangling/EDA; Discuss Analysis Plan   |\n",
    "| 3/3  | 1 PM  | Finalize wrangling/EDA; Begin Analysis | Discuss/edit Analysis; Complete project check-in |\n",
    "| 3/10  | 12 PM  | Complete analysis; Draft results/conclusion/discussion | Discuss/edit full project |\n",
    "| 3/14  | 1 PM  | Ideas/preparation for how to execute extra credit video | Film extra credit video |\n",
    "| 3/19  | Before 11:59 PM  | Final draft of project | Turn in Final Project & Group Project Surveys |"
   ]
  },
  {
   "cell_type": "code",
   "execution_count": null,
   "metadata": {},
   "outputs": [],
   "source": []
  }
 ],
 "metadata": {
  "kernelspec": {
   "display_name": "Python 3",
   "language": "python",
   "name": "python3"
  },
  "language_info": {
   "codemirror_mode": {
    "name": "ipython",
    "version": 3
   },
   "file_extension": ".py",
   "mimetype": "text/x-python",
   "name": "python",
   "nbconvert_exporter": "python",
   "pygments_lexer": "ipython3",
   "version": "3.7.1"
  }
 },
 "nbformat": 4,
 "nbformat_minor": 2
}
